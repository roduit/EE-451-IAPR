{
 "cells": [
  {
   "cell_type": "code",
   "execution_count": null,
   "metadata": {},
   "outputs": [],
   "source": [
    "# -*- coding: utf-8 -*-\n",
    "# -*- authors : Vincent Roduit, Filippo Quadri -*-\n",
    "# -*- date : 2024-05-03 -*-\n",
    "# -*- Last revision: 2024-05-03 -*-\n",
    "# -*- python version : 3.9.18 -*-\n",
    "# -*- Description: Notebook that summarize results-*-"
   ]
  },
  {
   "cell_type": "markdown",
   "metadata": {},
   "source": [
    "# <center> EE - 451 Image Analysis and Pattern recognition </center>\n",
    "## <center> Ecole Polytechnique Fédérale de Lausanne </center>\n",
    "### <center>Coin Challenge </center>\n",
    "---"
   ]
  },
  {
   "cell_type": "code",
   "execution_count": 1,
   "metadata": {},
   "outputs": [],
   "source": [
    "#Import libraries\n",
    "import torch\n",
    "import importlib\n",
    "\n",
    "import warnings\n",
    "warnings.filterwarnings(\"ignore\")"
   ]
  },
  {
   "cell_type": "code",
   "execution_count": 27,
   "metadata": {},
   "outputs": [
    {
     "name": "stdout",
     "output_type": "stream",
     "text": [
      "The autoreload extension is already loaded. To reload it, use:\n",
      "  %reload_ext autoreload\n"
     ]
    }
   ],
   "source": [
    "#Import files\n",
    "from data_classes.ref_data import refCoin\n",
    "from data_classes.train_data import trainCoin\n",
    "from data_classes.test_data import testCoin\n",
    "import constants\n",
    "from visualization import *\n",
    "from pickle_func import *\n",
    "importlib.reload(constants)\n",
    "from processing.process_func import *\n",
    "from models.utils import *\n",
    "from processing.data_augmentation import *\n",
    "%load_ext autoreload\n",
    "%autoreload 2"
   ]
  },
  {
   "cell_type": "markdown",
   "metadata": {},
   "source": [
    "# 1. Load different Datasets"
   ]
  },
  {
   "cell_type": "code",
   "execution_count": null,
   "metadata": {},
   "outputs": [],
   "source": [
    "ref_data = refCoin()"
   ]
  },
  {
   "cell_type": "code",
   "execution_count": 44,
   "metadata": {},
   "outputs": [
    {
     "name": "stdout",
     "output_type": "stream",
     "text": [
      "Loading data from pickle files\n"
     ]
    }
   ],
   "source": [
    "train_data = trainCoin(save=False, load_from_pickle=False)"
   ]
  },
  {
   "cell_type": "code",
   "execution_count": 45,
   "metadata": {},
   "outputs": [
    {
     "name": "stdout",
     "output_type": "stream",
     "text": [
      "Loading data from pickle files\n"
     ]
    }
   ],
   "source": [
    "test_data = testCoin()"
   ]
  },
  {
   "cell_type": "markdown",
   "metadata": {},
   "source": [
    "# 2 Create Data Ready for Neural Network"
   ]
  },
  {
   "cell_type": "code",
   "execution_count": 46,
   "metadata": {},
   "outputs": [
    {
     "name": "stdout",
     "output_type": "stream",
     "text": [
      "Finding contours\n",
      "Creating masked images\n",
      "Creating coin images\n"
     ]
    }
   ],
   "source": [
    "#Process all the images :\n",
    "# 1. clean the images and find the contours\n",
    "# 2. create the masked images \n",
    "# 3. create the coin images\n",
    "# 4. if save = True, save the images and the class in a result folder\n",
    "train_data.proceed_data()"
   ]
  },
  {
   "cell_type": "code",
   "execution_count": 49,
   "metadata": {},
   "outputs": [],
   "source": [
    "save_pickle(train_data.coins, 'coins.pkl')\n",
    "save_pickle(train_data.contours, 'contours.pkl')"
   ]
  },
  {
   "cell_type": "code",
   "execution_count": 23,
   "metadata": {},
   "outputs": [],
   "source": [
    "conversion_table = get_classes_conv_table()"
   ]
  },
  {
   "cell_type": "code",
   "execution_count": 24,
   "metadata": {},
   "outputs": [],
   "source": [
    "# Associate the labels to the coins\n",
    "coin_labels = get_coin_labels()"
   ]
  },
  {
   "cell_type": "code",
   "execution_count": 25,
   "metadata": {},
   "outputs": [],
   "source": [
    "# Extract the images and the labels + create a dataframe that summarize the data\n",
    "images, labels, df_images_labels = create_data_structure(train_data.coins, train_data.contours, coin_labels, conversion_table)"
   ]
  },
  {
   "cell_type": "code",
   "execution_count": 74,
   "metadata": {},
   "outputs": [],
   "source": [
    "save_coins_classified(df_images_labels, images)"
   ]
  },
  {
   "cell_type": "code",
   "execution_count": 28,
   "metadata": {},
   "outputs": [],
   "source": [
    "train_images, train_labels, val_images, val_labels = create_splits(images, labels)"
   ]
  },
  {
   "cell_type": "markdown",
   "metadata": {},
   "source": [
    "# 3 Data Augmentation"
   ]
  },
  {
   "cell_type": "code",
   "execution_count": 38,
   "metadata": {},
   "outputs": [],
   "source": [
    "train_images_aug, train_labels_aug = augment_set(train_images, train_labels)"
   ]
  },
  {
   "cell_type": "code",
   "execution_count": 77,
   "metadata": {},
   "outputs": [],
   "source": [
    "train_images_aug, train_labels_aug = augment_blur(train_images_aug, train_labels_aug)   "
   ]
  },
  {
   "cell_type": "markdown",
   "metadata": {},
   "source": [
    "# 4 Train Neural Network\n"
   ]
  },
  {
   "cell_type": "code",
   "execution_count": 31,
   "metadata": {},
   "outputs": [],
   "source": [
    "train_dataloader, val_dataloader = create_dataloader(train_images, train_labels, val_images, val_labels)"
   ]
  },
  {
   "cell_type": "markdown",
   "metadata": {},
   "source": [
    "## 4.1 Custom Basic CNN"
   ]
  },
  {
   "cell_type": "code",
   "execution_count": null,
   "metadata": {},
   "outputs": [],
   "source": [
    "from models.cnn import Basic_CNN\n",
    "from torch.optim.lr_scheduler import ReduceLROnPlateau\n",
    "from torch import nn\n",
    "\n",
    "image_dim = images.shape[1]\n",
    "num_classes = len(conversion_table)\n",
    "# Define the model\n",
    "cnn = Basic_CNN(image_size=image_dim, num_classes=num_classes) \n",
    "\n",
    "# Define the optimizer\n",
    "optimizer = torch.optim.Adam(cnn.parameters(), lr=0.001)\n",
    "# Define the scheduler\n",
    "scheduler = ReduceLROnPlateau(\n",
    "    optimizer, mode=\"min\", factor=0.1, patience=2, verbose=True\n",
    ")\n",
    "criterion = nn.BCEWithLogitsLoss()\n",
    "\n",
    "# Train the model\n",
    "cnn.train_model(\n",
    "    optimizer,\n",
    "    scheduler,\n",
    "    train_dataloader,\n",
    "    val_dataloader,\n",
    ")"
   ]
  },
  {
   "cell_type": "markdown",
   "metadata": {},
   "source": [
    "# 4.2 RESNET-50"
   ]
  },
  {
   "cell_type": "code",
   "execution_count": null,
   "metadata": {},
   "outputs": [],
   "source": [
    "from transformers import AutoImageProcessor, ResNetForImageClassification\n",
    "from torchvision import transforms\n",
    "from datasets import load_metric\n",
    "\n",
    "# Step 2: Modify the final layer\n",
    "model = ResNetForImageClassification.from_pretrained(\"microsoft/resnet-50\")\n",
    "\n",
    "# Replace the classifier\n",
    "num_classes = 15\n",
    "model.classifier = nn.Linear(model.classifier.in_features, num_classes)\n",
    "\n",
    "# Step 3: Fine-tune the model\n",
    "device = torch.device(\"cuda\" if torch.cuda.is_available() else \"cpu\")\n",
    "model.to(device)\n",
    "\n",
    "criterion = nn.CrossEntropyLoss()\n",
    "optimizer = torch.optim.Adam(model.parameters(), lr=1e-4)\n",
    "\n",
    "# Training loop\n",
    "for epoch in range(10):  # Adjust the number of epochs as needed\n",
    "    model.train()\n",
    "    for images, labels in train_dataloader:\n",
    "        images, labels = images.to(device), labels.to(device)\n",
    "        \n",
    "        optimizer.zero_grad()\n",
    "        outputs = model(images).logits\n",
    "        loss = criterion(outputs, labels)\n",
    "        loss.backward()\n",
    "        optimizer.step()\n",
    "\n",
    "    print(f\"Epoch {epoch+1}/{10}, Loss: {loss.item()}\")\n",
    "\n",
    "# Evaluation\n",
    "model.eval()\n",
    "metric = load_metric(\"accuracy\")\n",
    "for images, labels in val_dataloader:\n",
    "    images, labels = images.to(device), labels.to(device)\n",
    "    with torch.no_grad():\n",
    "        outputs = model(images).logits\n",
    "    predictions = torch.argmax(outputs, dim=1)\n",
    "    metric.add_batch(predictions=predictions, references=labels)\n",
    "\n",
    "accuracy = metric.compute()\n",
    "print(f\"Test Accuracy: {accuracy['accuracy']:.4f}\")\n"
   ]
  }
 ],
 "metadata": {
  "kernelspec": {
   "display_name": "iapr",
   "language": "python",
   "name": "python3"
  },
  "language_info": {
   "codemirror_mode": {
    "name": "ipython",
    "version": 3
   },
   "file_extension": ".py",
   "mimetype": "text/x-python",
   "name": "python",
   "nbconvert_exporter": "python",
   "pygments_lexer": "ipython3",
   "version": "3.12.3"
  }
 },
 "nbformat": 4,
 "nbformat_minor": 2
}
