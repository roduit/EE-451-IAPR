{
 "cells": [
  {
   "cell_type": "code",
   "execution_count": 1,
   "metadata": {},
   "outputs": [],
   "source": [
    "# -*- coding: utf-8 -*-\n",
    "# -*- authors : Vincent Roduit, Filippo Quadri -*-\n",
    "# -*- date : 2024-05-03 -*-\n",
    "# -*- Last revision: 2024-05-03 -*-\n",
    "# -*- python version : 3.9.18 -*-\n",
    "# -*- Description: Notebook that summarize results-*-"
   ]
  },
  {
   "cell_type": "markdown",
   "metadata": {},
   "source": [
    "# <center> EE - 451 Image Analysis and Pattern recognition </center>\n",
    "## <center> Ecole Polytechnique Fédérale de Lausanne </center>\n",
    "### <center>Coin Challenge </center>\n",
    "---"
   ]
  },
  {
   "cell_type": "code",
   "execution_count": 2,
   "metadata": {},
   "outputs": [],
   "source": [
    "#Import libraries\n",
    "import os\n",
    "import numpy as np\n",
    "import torch\n",
    "import importlib\n",
    "import skimage as sk\n",
    "from skimage.color import rgb2hsv\n",
    "import matplotlib.pyplot as plt\n",
    "from typing import Callable\n",
    "import cv2 as cv\n",
    "from skimage.morphology import closing, opening, disk, remove_small_holes, remove_small_objects\n",
    "from ipywidgets import interact, interactive, fixed, interact_manual\n",
    "import ipywidgets as widgets\n",
    "\n",
    "import warnings\n",
    "warnings.filterwarnings(\"ignore\")"
   ]
  },
  {
   "cell_type": "code",
   "execution_count": 3,
   "metadata": {},
   "outputs": [],
   "source": [
    "#Import files\n",
    "from data_classes.ref_data import refCoin\n",
    "from data_classes.train_data import trainCoin\n",
    "from data_classes.test_data import testCoin\n",
    "import constants\n",
    "from visualization import *\n",
    "importlib.reload(constants)\n",
    "from processing.process_func import *\n",
    "\n",
    "%load_ext autoreload\n",
    "%autoreload 2"
   ]
  },
  {
   "cell_type": "markdown",
   "metadata": {},
   "source": [
    "# 1. Load different Datasets"
   ]
  },
  {
   "cell_type": "code",
   "execution_count": 4,
   "metadata": {},
   "outputs": [
    {
     "name": "stdout",
     "output_type": "stream",
     "text": [
      "Loading data from pickle files\n"
     ]
    }
   ],
   "source": [
    "ref_data = refCoin()"
   ]
  },
  {
   "cell_type": "code",
   "execution_count": 5,
   "metadata": {},
   "outputs": [
    {
     "name": "stdout",
     "output_type": "stream",
     "text": [
      "Loading data from pickle files\n"
     ]
    }
   ],
   "source": [
    "train_data = trainCoin()"
   ]
  },
  {
   "cell_type": "code",
   "execution_count": 6,
   "metadata": {},
   "outputs": [
    {
     "name": "stdout",
     "output_type": "stream",
     "text": [
      "Loading data from pickle files\n"
     ]
    }
   ],
   "source": [
    "test_data = testCoin()"
   ]
  },
  {
   "cell_type": "code",
   "execution_count": 7,
   "metadata": {},
   "outputs": [],
   "source": [
    "train_data.process_images()"
   ]
  },
  {
   "cell_type": "code",
   "execution_count": 8,
   "metadata": {},
   "outputs": [],
   "source": [
    "train_data.create_masked_images()"
   ]
  },
  {
   "cell_type": "code",
   "execution_count": 19,
   "metadata": {},
   "outputs": [],
   "source": [
    "list_of_images = []\n",
    "for category in train_data.contours:\n",
    "    for idx, contour in enumerate(train_data.contours[category]):\n",
    "        list_of_images.append((train_data.data_index[category][idx],len(contour[0])))"
   ]
  },
  {
   "cell_type": "code",
   "execution_count": 22,
   "metadata": {},
   "outputs": [],
   "source": [
    "list_of_images = sorted(list_of_images, key=lambda x: x[0])"
   ]
  },
  {
   "cell_type": "code",
   "execution_count": 23,
   "metadata": {},
   "outputs": [
    {
     "data": {
      "text/plain": [
       "[('L1010277', 5),\n",
       " ('L1010279', 4),\n",
       " ('L1010281', 8),\n",
       " ('L1010283', 6),\n",
       " ('L1010287', 8),\n",
       " ('L1010288', 5),\n",
       " ('L1010294', 5),\n",
       " ('L1010297', 4),\n",
       " ('L1010298', 5),\n",
       " ('L1010300', 5),\n",
       " ('L1010308', 9),\n",
       " ('L1010310', 7),\n",
       " ('L1010311', 6),\n",
       " ('L1010318', 11),\n",
       " ('L1010321', 9),\n",
       " ('L1010323', 8),\n",
       " ('L1010325', 5),\n",
       " ('L1010328', 4),\n",
       " ('L1010331', 8),\n",
       " ('L1010335', 4),\n",
       " ('L1010341', 4),\n",
       " ('L1010345', 4),\n",
       " ('L1010349', 4),\n",
       " ('L1010352', 3),\n",
       " ('L1010353', 3),\n",
       " ('L1010356', 6),\n",
       " ('L1010361', 1),\n",
       " ('L1010365', 3),\n",
       " ('L1010367', 8),\n",
       " ('L1010369', 9),\n",
       " ('L1010370', 17),\n",
       " ('L1010373', 3),\n",
       " ('L1010375', 4),\n",
       " ('L1010377', 4),\n",
       " ('L1010378', 4),\n",
       " ('L1010382', 1),\n",
       " ('L1010383', 4),\n",
       " ('L1010388', 4),\n",
       " ('L1010390', 4),\n",
       " ('L1010391', 3),\n",
       " ('L1010395', 4),\n",
       " ('L1010405', 4),\n",
       " ('L1010406', 5),\n",
       " ('L1010408', 2),\n",
       " ('L1010410', 3),\n",
       " ('L1010413', 4),\n",
       " ('L1010418', 2),\n",
       " ('L1010419', 3),\n",
       " ('L1010421', 4),\n",
       " ('L1010422', 3),\n",
       " ('L1010424', 5),\n",
       " ('L1010434', 4),\n",
       " ('L1010436', 1),\n",
       " ('L1010440', 8),\n",
       " ('L1010445', 3),\n",
       " ('L1010446', 5),\n",
       " ('L1010450', 5),\n",
       " ('L1010454', 2),\n",
       " ('L1010462', 4),\n",
       " ('L1010468', 1),\n",
       " ('L1010470', 4),\n",
       " ('L1010475', 3),\n",
       " ('L1010476', 7),\n",
       " ('L1010477', 5),\n",
       " ('L1010478', 5),\n",
       " ('L1010479', 5),\n",
       " ('L1010483', 4),\n",
       " ('L1010485', 4),\n",
       " ('L1010486', 6),\n",
       " ('L1010487', 5),\n",
       " ('L1010491', 8),\n",
       " ('L1010500', 6),\n",
       " ('L1010501', 1),\n",
       " ('L1010503', 6),\n",
       " ('L1010506', 3),\n",
       " ('L1010510', 3),\n",
       " ('L1010515', 3),\n",
       " ('L1010517', 2),\n",
       " ('L1010521', 3),\n",
       " ('L1010523', 3),\n",
       " ('L1010524', 3)]"
      ]
     },
     "execution_count": 23,
     "metadata": {},
     "output_type": "execute_result"
    }
   ],
   "source": [
    "list_of_images"
   ]
  },
  {
   "cell_type": "code",
   "execution_count": 24,
   "metadata": {},
   "outputs": [],
   "source": [
    "train_data.create_coin_images()"
   ]
  }
 ],
 "metadata": {
  "kernelspec": {
   "display_name": "iapr",
   "language": "python",
   "name": "python3"
  },
  "language_info": {
   "codemirror_mode": {
    "name": "ipython",
    "version": 3
   },
   "file_extension": ".py",
   "mimetype": "text/x-python",
   "name": "python",
   "nbconvert_exporter": "python",
   "pygments_lexer": "ipython3",
   "version": "3.12.3"
  }
 },
 "nbformat": 4,
 "nbformat_minor": 2
}
